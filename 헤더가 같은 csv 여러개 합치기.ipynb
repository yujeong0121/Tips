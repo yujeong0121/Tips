{
 "cells": [
  {
   "cell_type": "code",
   "execution_count": 17,
   "id": "8f3c2ea5",
   "metadata": {
    "ExecuteTime": {
     "end_time": "2022-03-03T09:47:47.413341Z",
     "start_time": "2022-03-03T09:47:47.395391Z"
    }
   },
   "outputs": [],
   "source": [
    "import pandas as pd\n",
    "import csv \n",
    "import glob \n",
    "import os"
   ]
  },
  {
   "cell_type": "code",
   "execution_count": 18,
   "id": "fdc7fd6a",
   "metadata": {
    "ExecuteTime": {
     "end_time": "2022-03-03T09:47:58.139751Z",
     "start_time": "2022-03-03T09:47:51.818562Z"
    }
   },
   "outputs": [
    {
     "name": "stdout",
     "output_type": "stream",
     "text": [
      "1_law_data_chanhee.csv\n",
      "2_law_data_yujeong.csv\n",
      "3_law_data_saeha.csv\n",
      "4_law_data_hanseul.csv\n"
     ]
    }
   ],
   "source": [
    "input_path = './jomuns' #검색할 디렉토리, 폴더명 지정\n",
    "output_file = './jomuns/total.csv' #결과물 파일명\n",
    "\n",
    "is_first_file = True \n",
    "for input_file in glob.glob(os.path.join(input_path, '*.csv')):\n",
    "    print(os.path.basename(input_file))\n",
    "    with open(input_file, 'r', newline='', encoding='utf-8', errors='ignore') as csv_in_file:\n",
    "        with open(output_file, 'a', newline='', encoding='utf-8') as csv_out_file: # 'a' append 모드\n",
    "            freader = csv.reader(csv_in_file) \n",
    "            fwriter = csv.writer(csv_out_file)\n",
    "            if is_first_file:\n",
    "                for row in freader:\n",
    "                    fwriter.writerow(row)\n",
    "                    #print(row)\n",
    "                is_first_file = False\n",
    "            else:\n",
    "                header = next(freader) #헤더를 건너뛰는 옵션\n",
    "                for row in freader:\n",
    "                      fwriter.writerow(row)\n",
    "                        #  print(row)\n"
   ]
  },
  {
   "cell_type": "code",
   "execution_count": 19,
   "id": "0eaa3960",
   "metadata": {
    "ExecuteTime": {
     "end_time": "2022-03-03T09:48:43.399847Z",
     "start_time": "2022-03-03T09:48:39.758068Z"
    }
   },
   "outputs": [],
   "source": [
    "data = pd.read_csv(\"jomuns/total.csv\")"
   ]
  },
  {
   "cell_type": "code",
   "execution_count": 20,
   "id": "e8258fcf",
   "metadata": {
    "ExecuteTime": {
     "end_time": "2022-03-03T09:48:59.901243Z",
     "start_time": "2022-03-03T09:48:59.895259Z"
    }
   },
   "outputs": [
    {
     "data": {
      "text/plain": [
       "145279"
      ]
     },
     "execution_count": 20,
     "metadata": {},
     "output_type": "execute_result"
    }
   ],
   "source": [
    "len(data)"
   ]
  },
  {
   "cell_type": "code",
   "execution_count": 22,
   "id": "035a8cec",
   "metadata": {
    "ExecuteTime": {
     "end_time": "2022-03-03T09:49:14.732656Z",
     "start_time": "2022-03-03T09:49:14.707723Z"
    }
   },
   "outputs": [
    {
     "data": {
      "text/html": [
       "<div>\n",
       "<style scoped>\n",
       "    .dataframe tbody tr th:only-of-type {\n",
       "        vertical-align: middle;\n",
       "    }\n",
       "\n",
       "    .dataframe tbody tr th {\n",
       "        vertical-align: top;\n",
       "    }\n",
       "\n",
       "    .dataframe thead th {\n",
       "        text-align: right;\n",
       "    }\n",
       "</style>\n",
       "<table border=\"1\" class=\"dataframe\">\n",
       "  <thead>\n",
       "    <tr style=\"text-align: right;\">\n",
       "      <th></th>\n",
       "      <th>법령명</th>\n",
       "      <th>법령MST</th>\n",
       "      <th>법령ID</th>\n",
       "      <th>시행일자</th>\n",
       "      <th>공포번호</th>\n",
       "      <th>법령구분명</th>\n",
       "      <th>조문번호</th>\n",
       "      <th>조문내용</th>\n",
       "    </tr>\n",
       "  </thead>\n",
       "  <tbody>\n",
       "    <tr>\n",
       "      <th>0</th>\n",
       "      <td>10ㆍ27법난 피해자의 명예회복 등에 관한 법률</td>\n",
       "      <td>232157</td>\n",
       "      <td>10719</td>\n",
       "      <td>2021.5.18</td>\n",
       "      <td>제18146호</td>\n",
       "      <td>법률</td>\n",
       "      <td>1</td>\n",
       "      <td>제1조(목적) 이 법은 10ㆍ27법난과 관련하여 피해를 입은 자와 불교계의 명예를 ...</td>\n",
       "    </tr>\n",
       "    <tr>\n",
       "      <th>1</th>\n",
       "      <td>10ㆍ27법난 피해자의 명예회복 등에 관한 법률</td>\n",
       "      <td>232157</td>\n",
       "      <td>10719</td>\n",
       "      <td>2021.5.18</td>\n",
       "      <td>제18146호</td>\n",
       "      <td>법률</td>\n",
       "      <td>2</td>\n",
       "      <td>제2조(정의) 이 법에서 사용하는 용어의 정의는 다음과 같다.\\n1. \"10ㆍ27법...</td>\n",
       "    </tr>\n",
       "    <tr>\n",
       "      <th>2</th>\n",
       "      <td>10ㆍ27법난 피해자의 명예회복 등에 관한 법률</td>\n",
       "      <td>232157</td>\n",
       "      <td>10719</td>\n",
       "      <td>2021.5.18</td>\n",
       "      <td>제18146호</td>\n",
       "      <td>법률</td>\n",
       "      <td>3</td>\n",
       "      <td>제3조(피해자 및 피해종교단체의 명예회복)\\n ① 피해자 또는 피해종교단체(이하\"피...</td>\n",
       "    </tr>\n",
       "    <tr>\n",
       "      <th>3</th>\n",
       "      <td>10ㆍ27법난 피해자의 명예회복 등에 관한 법률</td>\n",
       "      <td>232157</td>\n",
       "      <td>10719</td>\n",
       "      <td>2021.5.18</td>\n",
       "      <td>제18146호</td>\n",
       "      <td>법률</td>\n",
       "      <td>5</td>\n",
       "      <td>제5조(의료지원금)\\n ① 10ㆍ27법난으로 인하여 상이를 입은 자 중에서 이 법 ...</td>\n",
       "    </tr>\n",
       "    <tr>\n",
       "      <th>4</th>\n",
       "      <td>10ㆍ27법난 피해자의 명예회복 등에 관한 법률</td>\n",
       "      <td>232157</td>\n",
       "      <td>10719</td>\n",
       "      <td>2021.5.18</td>\n",
       "      <td>제18146호</td>\n",
       "      <td>법률</td>\n",
       "      <td>6</td>\n",
       "      <td>제6조(의료지원금의 환수)\\n ① 국가는 의료지원금을 지급받은 자가 다음 각 호의 ...</td>\n",
       "    </tr>\n",
       "  </tbody>\n",
       "</table>\n",
       "</div>"
      ],
      "text/plain": [
       "                          법령명   법령MST   법령ID       시행일자     공포번호 법령구분명  조문번호  \\\n",
       "0  10ㆍ27법난 피해자의 명예회복 등에 관한 법률  232157  10719  2021.5.18  제18146호    법률     1   \n",
       "1  10ㆍ27법난 피해자의 명예회복 등에 관한 법률  232157  10719  2021.5.18  제18146호    법률     2   \n",
       "2  10ㆍ27법난 피해자의 명예회복 등에 관한 법률  232157  10719  2021.5.18  제18146호    법률     3   \n",
       "3  10ㆍ27법난 피해자의 명예회복 등에 관한 법률  232157  10719  2021.5.18  제18146호    법률     5   \n",
       "4  10ㆍ27법난 피해자의 명예회복 등에 관한 법률  232157  10719  2021.5.18  제18146호    법률     6   \n",
       "\n",
       "                                                조문내용  \n",
       "0  제1조(목적) 이 법은 10ㆍ27법난과 관련하여 피해를 입은 자와 불교계의 명예를 ...  \n",
       "1  제2조(정의) 이 법에서 사용하는 용어의 정의는 다음과 같다.\\n1. \"10ㆍ27법...  \n",
       "2  제3조(피해자 및 피해종교단체의 명예회복)\\n ① 피해자 또는 피해종교단체(이하\"피...  \n",
       "3  제5조(의료지원금)\\n ① 10ㆍ27법난으로 인하여 상이를 입은 자 중에서 이 법 ...  \n",
       "4  제6조(의료지원금의 환수)\\n ① 국가는 의료지원금을 지급받은 자가 다음 각 호의 ...  "
      ]
     },
     "execution_count": 22,
     "metadata": {},
     "output_type": "execute_result"
    }
   ],
   "source": [
    "data.head()"
   ]
  },
  {
   "cell_type": "code",
   "execution_count": 21,
   "id": "8d56bc23",
   "metadata": {
    "ExecuteTime": {
     "end_time": "2022-03-03T09:49:00.933482Z",
     "start_time": "2022-03-03T09:49:00.910544Z"
    }
   },
   "outputs": [
    {
     "data": {
      "text/html": [
       "<div>\n",
       "<style scoped>\n",
       "    .dataframe tbody tr th:only-of-type {\n",
       "        vertical-align: middle;\n",
       "    }\n",
       "\n",
       "    .dataframe tbody tr th {\n",
       "        vertical-align: top;\n",
       "    }\n",
       "\n",
       "    .dataframe thead th {\n",
       "        text-align: right;\n",
       "    }\n",
       "</style>\n",
       "<table border=\"1\" class=\"dataframe\">\n",
       "  <thead>\n",
       "    <tr style=\"text-align: right;\">\n",
       "      <th></th>\n",
       "      <th>법령명</th>\n",
       "      <th>법령MST</th>\n",
       "      <th>법령ID</th>\n",
       "      <th>시행일자</th>\n",
       "      <th>공포번호</th>\n",
       "      <th>법령구분명</th>\n",
       "      <th>조문번호</th>\n",
       "      <th>조문내용</th>\n",
       "    </tr>\n",
       "  </thead>\n",
       "  <tbody>\n",
       "    <tr>\n",
       "      <th>145274</th>\n",
       "      <td>희귀질환관리법 시행규칙</td>\n",
       "      <td>221819</td>\n",
       "      <td>12776</td>\n",
       "      <td>2020.9.12</td>\n",
       "      <td>제749호</td>\n",
       "      <td>보건복지부령</td>\n",
       "      <td>5</td>\n",
       "      <td>제5조(후계농어업경영인등의 지원 내용 등) 법 제8조제3항에 따른 후계농어업경영인등...</td>\n",
       "    </tr>\n",
       "    <tr>\n",
       "      <th>145275</th>\n",
       "      <td>희귀질환관리법 시행규칙</td>\n",
       "      <td>221819</td>\n",
       "      <td>12776</td>\n",
       "      <td>2020.9.12</td>\n",
       "      <td>제749호</td>\n",
       "      <td>보건복지부령</td>\n",
       "      <td>6</td>\n",
       "      <td>제6조(영농영어정착지원금의 용도) 법 제8조제4항에 따른 청년창업형 후계농업경영인 ...</td>\n",
       "    </tr>\n",
       "    <tr>\n",
       "      <th>145276</th>\n",
       "      <td>희귀질환관리법 시행규칙</td>\n",
       "      <td>221819</td>\n",
       "      <td>12776</td>\n",
       "      <td>2020.9.12</td>\n",
       "      <td>제749호</td>\n",
       "      <td>보건복지부령</td>\n",
       "      <td>7</td>\n",
       "      <td>제7조(영농영어정착지원금 수령을 위한 의무사항) 법 제8조제4항에 따라 영농영어정착...</td>\n",
       "    </tr>\n",
       "    <tr>\n",
       "      <th>145277</th>\n",
       "      <td>희귀질환관리법 시행규칙</td>\n",
       "      <td>221819</td>\n",
       "      <td>12776</td>\n",
       "      <td>2020.9.12</td>\n",
       "      <td>제749호</td>\n",
       "      <td>보건복지부령</td>\n",
       "      <td>8</td>\n",
       "      <td>제8조(후계농어업경영인등의 선정 우대) 농림축산식품부장관, 해양수산부장관, 시ㆍ도지...</td>\n",
       "    </tr>\n",
       "    <tr>\n",
       "      <th>145278</th>\n",
       "      <td>희귀질환관리법 시행규칙</td>\n",
       "      <td>221819</td>\n",
       "      <td>12776</td>\n",
       "      <td>2020.9.12</td>\n",
       "      <td>제749호</td>\n",
       "      <td>보건복지부령</td>\n",
       "      <td>9</td>\n",
       "      <td>제9조(선발인원의 사후관리) 농림축산식품부장관, 해양수산부장관, 시ㆍ도지사 또는 시...</td>\n",
       "    </tr>\n",
       "  </tbody>\n",
       "</table>\n",
       "</div>"
      ],
      "text/plain": [
       "                 법령명   법령MST   법령ID       시행일자   공포번호   법령구분명  조문번호  \\\n",
       "145274  희귀질환관리법 시행규칙  221819  12776  2020.9.12  제749호  보건복지부령     5   \n",
       "145275  희귀질환관리법 시행규칙  221819  12776  2020.9.12  제749호  보건복지부령     6   \n",
       "145276  희귀질환관리법 시행규칙  221819  12776  2020.9.12  제749호  보건복지부령     7   \n",
       "145277  희귀질환관리법 시행규칙  221819  12776  2020.9.12  제749호  보건복지부령     8   \n",
       "145278  희귀질환관리법 시행규칙  221819  12776  2020.9.12  제749호  보건복지부령     9   \n",
       "\n",
       "                                                     조문내용  \n",
       "145274  제5조(후계농어업경영인등의 지원 내용 등) 법 제8조제3항에 따른 후계농어업경영인등...  \n",
       "145275  제6조(영농영어정착지원금의 용도) 법 제8조제4항에 따른 청년창업형 후계농업경영인 ...  \n",
       "145276  제7조(영농영어정착지원금 수령을 위한 의무사항) 법 제8조제4항에 따라 영농영어정착...  \n",
       "145277  제8조(후계농어업경영인등의 선정 우대) 농림축산식품부장관, 해양수산부장관, 시ㆍ도지...  \n",
       "145278  제9조(선발인원의 사후관리) 농림축산식품부장관, 해양수산부장관, 시ㆍ도지사 또는 시...  "
      ]
     },
     "execution_count": 21,
     "metadata": {},
     "output_type": "execute_result"
    }
   ],
   "source": [
    "data.tail()"
   ]
  },
  {
   "cell_type": "code",
   "execution_count": null,
   "id": "0e14b78a",
   "metadata": {},
   "outputs": [],
   "source": []
  }
 ],
 "metadata": {
  "kernelspec": {
   "display_name": "Python 3 (ipykernel)",
   "language": "python",
   "name": "python3"
  },
  "language_info": {
   "codemirror_mode": {
    "name": "ipython",
    "version": 3
   },
   "file_extension": ".py",
   "mimetype": "text/x-python",
   "name": "python",
   "nbconvert_exporter": "python",
   "pygments_lexer": "ipython3",
   "version": "3.8.12"
  },
  "toc": {
   "base_numbering": 1,
   "nav_menu": {},
   "number_sections": true,
   "sideBar": true,
   "skip_h1_title": false,
   "title_cell": "Table of Contents",
   "title_sidebar": "Contents",
   "toc_cell": false,
   "toc_position": {},
   "toc_section_display": true,
   "toc_window_display": false
  },
  "varInspector": {
   "cols": {
    "lenName": 16,
    "lenType": 16,
    "lenVar": 40
   },
   "kernels_config": {
    "python": {
     "delete_cmd_postfix": "",
     "delete_cmd_prefix": "del ",
     "library": "var_list.py",
     "varRefreshCmd": "print(var_dic_list())"
    },
    "r": {
     "delete_cmd_postfix": ") ",
     "delete_cmd_prefix": "rm(",
     "library": "var_list.r",
     "varRefreshCmd": "cat(var_dic_list()) "
    }
   },
   "types_to_exclude": [
    "module",
    "function",
    "builtin_function_or_method",
    "instance",
    "_Feature"
   ],
   "window_display": false
  }
 },
 "nbformat": 4,
 "nbformat_minor": 5
}
